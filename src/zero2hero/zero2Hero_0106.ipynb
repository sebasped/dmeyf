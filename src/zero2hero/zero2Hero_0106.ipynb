{
 "cells": [
  {
   "cell_type": "markdown",
   "metadata": {},
   "source": [
    "# Zero to Hero"
   ]
  },
  {
   "cell_type": "markdown",
   "metadata": {},
   "source": [
    "## 1.06 Hackeando Kaggle"
   ]
  },
  {
   "cell_type": "markdown",
   "metadata": {},
   "source": [
    "Voy a **hackear** Kaggle  para descubrir cuandos  \"BAJA+\"  hay en el mes 202101, que es donde  *no* tengo la clase"
   ]
  },
  {
   "cell_type": "markdown",
   "metadata": {},
   "source": [
    "La idea es subir a Kaggle una prediccion que tenga TODOS 1,  que se le envíe estímulo a todos\n",
    "<br>\n",
    "Es obvio que esa prediccion va a dar una pésima ganancia\n",
    "<br>\n",
    "Pero me va a permitir tener un sistema de dos ecuaciones con dos incognitas, y despejando tendre la cantidad de BAJA+2 que hay en los datos del futuro"
   ]
  },
  {
   "cell_type": "code",
   "execution_count": null,
   "metadata": {},
   "outputs": [],
   "source": [
    "rm( list=ls())\n",
    "gc()\n",
    "\n",
    "library( \"data.table\")   #cargo la libreria  data.table\n",
    "library( \"rpart\")  #cargo la libreria  rpart\n",
    "library( \"rpart.plot\")\n",
    "\n",
    "options(repr.plot.width=20, repr.plot.height=10) \n",
    "setwd(\"M:\\\\\")  #Aqui se debe poner la ruta de la PC local"
   ]
  },
  {
   "cell_type": "markdown",
   "metadata": {},
   "source": [
    "Leo el dataset de **enero 2021**"
   ]
  },
  {
   "cell_type": "code",
   "execution_count": null,
   "metadata": {},
   "outputs": [],
   "source": [
    "denero <- data.table::fread(\"./datasetsOri/paquete_premium_202101.csv\")   #cargo el dataset"
   ]
  },
  {
   "cell_type": "markdown",
   "metadata": {},
   "source": [
    "cuento la cantidad de lineas del dataset"
   ]
  },
  {
   "cell_type": "code",
   "execution_count": null,
   "metadata": {},
   "outputs": [],
   "source": [
    "nrow( denero )"
   ]
  },
  {
   "cell_type": "markdown",
   "metadata": {},
   "source": [
    "Creo un vector que sean los  ids"
   ]
  },
  {
   "cell_type": "code",
   "execution_count": null,
   "metadata": {},
   "outputs": [],
   "source": [
    "vector_ids  <-   denero[ , numero_de_cliente]"
   ]
  },
  {
   "cell_type": "code",
   "execution_count": null,
   "metadata": {},
   "outputs": [],
   "source": [
    "head( vector_ids)"
   ]
  },
  {
   "cell_type": "markdown",
   "metadata": {},
   "source": [
    "Creo un vector de todos unos, de  240336 unos,  la cantidad de registros que tiene denero\n",
    "<br>\n",
    "utilizo la instruccion  **rep()**  de R  https://www.rdocumentation.org/packages/base/versions/3.6.2/topics/rep"
   ]
  },
  {
   "cell_type": "code",
   "execution_count": null,
   "metadata": {},
   "outputs": [],
   "source": [
    "vector_enviar <-  rep( 1,  nrow( denero))"
   ]
  },
  {
   "cell_type": "code",
   "execution_count": null,
   "metadata": {},
   "outputs": [],
   "source": [
    "head( vector_enviar )"
   ]
  },
  {
   "cell_type": "code",
   "execution_count": null,
   "metadata": {},
   "outputs": [],
   "source": [
    "length( vector_enviar)"
   ]
  },
  {
   "cell_type": "markdown",
   "metadata": {},
   "source": [
    "Excelente, tiene tantos unos como registros tiene denero"
   ]
  },
  {
   "cell_type": "markdown",
   "metadata": {},
   "source": [
    "creo una tabla con  lo que voy a enviar a Kaggle"
   ]
  },
  {
   "cell_type": "code",
   "execution_count": null,
   "metadata": {},
   "outputs": [],
   "source": [
    "tabla_final  <-   as.data.table(  list(  \"numero_de_cliente\"= vector_ids,\n",
    "                                         \"Predicted\"=         vector_enviar))"
   ]
  },
  {
   "cell_type": "code",
   "execution_count": null,
   "metadata": {},
   "outputs": [],
   "source": [
    "head( tabla_final)"
   ]
  },
  {
   "cell_type": "code",
   "execution_count": null,
   "metadata": {},
   "outputs": [],
   "source": [
    "#genero el archivo para Kaggle\n",
    "fwrite(tabla_final, \n",
    "        file= \"./kaggle/todos_unos.csv\",\n",
    "        sep=  \",\" )"
   ]
  },
  {
   "cell_type": "markdown",
   "metadata": {},
   "source": [
    "Subo el archivo a Kaggle y me fijo cuanta ganancia me da en el Public Leaderboard"
   ]
  },
  {
   "cell_type": "markdown",
   "metadata": {},
   "source": [
    "Da una ganancia de **-240.91851**"
   ]
  },
  {
   "cell_type": "markdown",
   "metadata": {},
   "source": [
    "### el hackeo"
   ]
  },
  {
   "cell_type": "markdown",
   "metadata": {},
   "source": [
    "Ahora pasamos a calcular la cantidad de BAJA+2  que hay en los datos de enero-2021,  hackeamos Kaggle"
   ]
  },
  {
   "cell_type": "markdown",
   "metadata": {},
   "source": [
    "Tengo dos incognitas, por un lado lo que llamo POS , los positivos, las \"BAJA+2\"\n",
    "<br>\n",
    "Por otro lado, lo que llamo NEG, los negativos,  los \"BAJA+1\" y \"CONTINUA\""
   ]
  },
  {
   "cell_type": "markdown",
   "metadata": {},
   "source": [
    "Se que se cumplen estas dos cosas:\n",
    "* POS + NEG = 240336\n",
    "* 48750\\*POS - 1250\\*NEG =  -240918510"
   ]
  },
  {
   "cell_type": "markdown",
   "metadata": {},
   "source": [
    "Es un sistema de dos ecuaciones con dos incógnitas, has multiples formas de resolverlo, la primera sería despejar POS.\n",
    "<br>\n",
    "pero utilizamos esta página  https://keisan.casio.com/exec/system/14013211335541"
   ]
  },
  {
   "cell_type": "markdown",
   "metadata": {},
   "source": [
    "Al correlo obtenemos que  POS = 1190 , o sea las BAJA+2  de 202101  son  1190"
   ]
  },
  {
   "cell_type": "markdown",
   "metadata": {},
   "source": [
    "¿Qué nos dicen estas 1190 BAJA+2 de enero del 2021? ¿Explican algo?\n",
    "<br>\n",
    "Las BAJA+2 que hay en noviembre del 2020 son  975 \n",
    "<br>\n",
    "Con lo cual es de esperar mayores ganancias de los modelos predictivos en 202101  que en 202001,  va a irnos mejor en el Public Leaderboard que en nuestros modelos."
   ]
  }
 ],
 "metadata": {
  "kernelspec": {
   "display_name": "R",
   "language": "R",
   "name": "ir"
  },
  "language_info": {
   "codemirror_mode": "r",
   "file_extension": ".r",
   "mimetype": "text/x-r-source",
   "name": "R",
   "pygments_lexer": "r",
   "version": "4.1.0"
  }
 },
 "nbformat": 4,
 "nbformat_minor": 4
}

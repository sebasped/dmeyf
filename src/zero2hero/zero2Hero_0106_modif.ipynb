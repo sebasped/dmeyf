{
 "cells": [
  {
   "cell_type": "markdown",
   "metadata": {},
   "source": [
    "# Zero to Hero"
   ]
  },
  {
   "cell_type": "markdown",
   "metadata": {},
   "source": [
    "## 1.06 Hackeando Kaggle"
   ]
  },
  {
   "cell_type": "markdown",
   "metadata": {},
   "source": [
    "Voy a **hackear** Kaggle  para descubrir cuandos  \"BAJA+\"  hay en el mes 202101, que es donde  *no* tengo la clase"
   ]
  },
  {
   "cell_type": "markdown",
   "metadata": {},
   "source": [
    "La idea es subir a Kaggle una prediccion que tenga TODOS 1,  que se le envíe estímulo a todos\n",
    "<br>\n",
    "Es obvio que esa prediccion va a dar una pésima ganancia\n",
    "<br>\n",
    "Pero me va a permitir tener un sistema de dos ecuaciones con dos incognitas, y despejando tendre la cantidad de BAJA+2 que hay en los datos del futuro"
   ]
  },
  {
   "cell_type": "code",
   "execution_count": 1,
   "metadata": {},
   "outputs": [
    {
     "data": {
      "text/html": [
       "<table class=\"dataframe\">\n",
       "<caption>A matrix: 2 × 6 of type dbl</caption>\n",
       "<thead>\n",
       "\t<tr><th></th><th scope=col>used</th><th scope=col>(Mb)</th><th scope=col>gc trigger</th><th scope=col>(Mb)</th><th scope=col>max used</th><th scope=col>(Mb)</th></tr>\n",
       "</thead>\n",
       "<tbody>\n",
       "\t<tr><th scope=row>Ncells</th><td> 568014</td><td>30.4</td><td>1230467</td><td>65.8</td><td> 731405</td><td>39.1</td></tr>\n",
       "\t<tr><th scope=row>Vcells</th><td>1066094</td><td> 8.2</td><td>8388608</td><td>64.0</td><td>1820723</td><td>13.9</td></tr>\n",
       "</tbody>\n",
       "</table>\n"
      ],
      "text/latex": [
       "A matrix: 2 × 6 of type dbl\n",
       "\\begin{tabular}{r|llllll}\n",
       "  & used & (Mb) & gc trigger & (Mb) & max used & (Mb)\\\\\n",
       "\\hline\n",
       "\tNcells &  568014 & 30.4 & 1230467 & 65.8 &  731405 & 39.1\\\\\n",
       "\tVcells & 1066094 &  8.2 & 8388608 & 64.0 & 1820723 & 13.9\\\\\n",
       "\\end{tabular}\n"
      ],
      "text/markdown": [
       "\n",
       "A matrix: 2 × 6 of type dbl\n",
       "\n",
       "| <!--/--> | used | (Mb) | gc trigger | (Mb) | max used | (Mb) |\n",
       "|---|---|---|---|---|---|---|\n",
       "| Ncells |  568014 | 30.4 | 1230467 | 65.8 |  731405 | 39.1 |\n",
       "| Vcells | 1066094 |  8.2 | 8388608 | 64.0 | 1820723 | 13.9 |\n",
       "\n"
      ],
      "text/plain": [
       "       used    (Mb) gc trigger (Mb) max used (Mb)\n",
       "Ncells  568014 30.4 1230467    65.8  731405  39.1\n",
       "Vcells 1066094  8.2 8388608    64.0 1820723  13.9"
      ]
     },
     "metadata": {},
     "output_type": "display_data"
    }
   ],
   "source": [
    "rm( list=ls())\n",
    "gc()\n",
    "\n",
    "library( \"data.table\")   #cargo la libreria  data.table\n",
    "library( \"rpart\")  #cargo la libreria  rpart\n",
    "library( \"rpart.plot\")\n",
    "\n",
    "options(repr.plot.width=20, repr.plot.height=10) \n",
    "setwd(\"~/dataScience/maestriaDC/2021/DM_en_EyF_2021cuat2/\")  #se establece el directorio de trabajo"
   ]
  },
  {
   "cell_type": "markdown",
   "metadata": {},
   "source": [
    "Leo el dataset de **enero 2021**"
   ]
  },
  {
   "cell_type": "code",
   "execution_count": 3,
   "metadata": {},
   "outputs": [],
   "source": [
    "denero <- data.table::fread(\"./datasetsOri/paquete_premium_202011.csv\")   #cargo el dataset"
   ]
  },
  {
   "cell_type": "markdown",
   "metadata": {},
   "source": [
    "cuento la cantidad de lineas del dataset"
   ]
  },
  {
   "cell_type": "code",
   "execution_count": 4,
   "metadata": {},
   "outputs": [
    {
     "data": {
      "text/html": [
       "238986"
      ],
      "text/latex": [
       "238986"
      ],
      "text/markdown": [
       "238986"
      ],
      "text/plain": [
       "[1] 238986"
      ]
     },
     "metadata": {},
     "output_type": "display_data"
    }
   ],
   "source": [
    "nrow( denero )"
   ]
  },
  {
   "cell_type": "markdown",
   "metadata": {},
   "source": [
    "Creo un vector que sean los  ids"
   ]
  },
  {
   "cell_type": "code",
   "execution_count": 5,
   "metadata": {},
   "outputs": [],
   "source": [
    "vector_ids  <-   denero[ , numero_de_cliente]"
   ]
  },
  {
   "cell_type": "code",
   "execution_count": 6,
   "metadata": {},
   "outputs": [
    {
     "data": {
      "text/html": [
       "<style>\n",
       ".list-inline {list-style: none; margin:0; padding: 0}\n",
       ".list-inline>li {display: inline-block}\n",
       ".list-inline>li:not(:last-child)::after {content: \"\\00b7\"; padding: 0 .5ex}\n",
       "</style>\n",
       "<ol class=list-inline><li>4572294</li><li>4572366</li><li>4572633</li><li>4572728</li><li>4572765</li><li>4572913</li></ol>\n"
      ],
      "text/latex": [
       "\\begin{enumerate*}\n",
       "\\item 4572294\n",
       "\\item 4572366\n",
       "\\item 4572633\n",
       "\\item 4572728\n",
       "\\item 4572765\n",
       "\\item 4572913\n",
       "\\end{enumerate*}\n"
      ],
      "text/markdown": [
       "1. 4572294\n",
       "2. 4572366\n",
       "3. 4572633\n",
       "4. 4572728\n",
       "5. 4572765\n",
       "6. 4572913\n",
       "\n",
       "\n"
      ],
      "text/plain": [
       "[1] 4572294 4572366 4572633 4572728 4572765 4572913"
      ]
     },
     "metadata": {},
     "output_type": "display_data"
    }
   ],
   "source": [
    "head( vector_ids)"
   ]
  },
  {
   "cell_type": "markdown",
   "metadata": {},
   "source": [
    "Creo un vector de todos unos, de  240336 unos,  la cantidad de registros que tiene denero\n",
    "<br>\n",
    "utilizo la instruccion  **rep()**  de R  https://www.rdocumentation.org/packages/base/versions/3.6.2/topics/rep"
   ]
  },
  {
   "cell_type": "code",
   "execution_count": 7,
   "metadata": {},
   "outputs": [],
   "source": [
    "vector_enviar <-  rep( 1,  nrow( denero))"
   ]
  },
  {
   "cell_type": "code",
   "execution_count": 8,
   "metadata": {},
   "outputs": [
    {
     "data": {
      "text/html": [
       "<style>\n",
       ".list-inline {list-style: none; margin:0; padding: 0}\n",
       ".list-inline>li {display: inline-block}\n",
       ".list-inline>li:not(:last-child)::after {content: \"\\00b7\"; padding: 0 .5ex}\n",
       "</style>\n",
       "<ol class=list-inline><li>1</li><li>1</li><li>1</li><li>1</li><li>1</li><li>1</li></ol>\n"
      ],
      "text/latex": [
       "\\begin{enumerate*}\n",
       "\\item 1\n",
       "\\item 1\n",
       "\\item 1\n",
       "\\item 1\n",
       "\\item 1\n",
       "\\item 1\n",
       "\\end{enumerate*}\n"
      ],
      "text/markdown": [
       "1. 1\n",
       "2. 1\n",
       "3. 1\n",
       "4. 1\n",
       "5. 1\n",
       "6. 1\n",
       "\n",
       "\n"
      ],
      "text/plain": [
       "[1] 1 1 1 1 1 1"
      ]
     },
     "metadata": {},
     "output_type": "display_data"
    }
   ],
   "source": [
    "head( vector_enviar )"
   ]
  },
  {
   "cell_type": "code",
   "execution_count": 9,
   "metadata": {},
   "outputs": [
    {
     "data": {
      "text/html": [
       "238986"
      ],
      "text/latex": [
       "238986"
      ],
      "text/markdown": [
       "238986"
      ],
      "text/plain": [
       "[1] 238986"
      ]
     },
     "metadata": {},
     "output_type": "display_data"
    }
   ],
   "source": [
    "length( vector_enviar)"
   ]
  },
  {
   "cell_type": "markdown",
   "metadata": {},
   "source": [
    "Excelente, tiene tantos unos como registros tiene denero"
   ]
  },
  {
   "cell_type": "markdown",
   "metadata": {},
   "source": [
    "creo una tabla con  lo que voy a enviar a Kaggle"
   ]
  },
  {
   "cell_type": "code",
   "execution_count": 10,
   "metadata": {},
   "outputs": [],
   "source": [
    "tabla_final  <-   as.data.table(  list(  \"numero_de_cliente\"= vector_ids,\n",
    "                                         \"Predicted\"=         vector_enviar))"
   ]
  },
  {
   "cell_type": "code",
   "execution_count": 11,
   "metadata": {},
   "outputs": [
    {
     "data": {
      "text/html": [
       "<table class=\"dataframe\">\n",
       "<caption>A data.table: 6 × 2</caption>\n",
       "<thead>\n",
       "\t<tr><th scope=col>numero_de_cliente</th><th scope=col>Predicted</th></tr>\n",
       "\t<tr><th scope=col>&lt;int&gt;</th><th scope=col>&lt;dbl&gt;</th></tr>\n",
       "</thead>\n",
       "<tbody>\n",
       "\t<tr><td>4572294</td><td>1</td></tr>\n",
       "\t<tr><td>4572366</td><td>1</td></tr>\n",
       "\t<tr><td>4572633</td><td>1</td></tr>\n",
       "\t<tr><td>4572728</td><td>1</td></tr>\n",
       "\t<tr><td>4572765</td><td>1</td></tr>\n",
       "\t<tr><td>4572913</td><td>1</td></tr>\n",
       "</tbody>\n",
       "</table>\n"
      ],
      "text/latex": [
       "A data.table: 6 × 2\n",
       "\\begin{tabular}{ll}\n",
       " numero\\_de\\_cliente & Predicted\\\\\n",
       " <int> & <dbl>\\\\\n",
       "\\hline\n",
       "\t 4572294 & 1\\\\\n",
       "\t 4572366 & 1\\\\\n",
       "\t 4572633 & 1\\\\\n",
       "\t 4572728 & 1\\\\\n",
       "\t 4572765 & 1\\\\\n",
       "\t 4572913 & 1\\\\\n",
       "\\end{tabular}\n"
      ],
      "text/markdown": [
       "\n",
       "A data.table: 6 × 2\n",
       "\n",
       "| numero_de_cliente &lt;int&gt; | Predicted &lt;dbl&gt; |\n",
       "|---|---|\n",
       "| 4572294 | 1 |\n",
       "| 4572366 | 1 |\n",
       "| 4572633 | 1 |\n",
       "| 4572728 | 1 |\n",
       "| 4572765 | 1 |\n",
       "| 4572913 | 1 |\n",
       "\n"
      ],
      "text/plain": [
       "  numero_de_cliente Predicted\n",
       "1 4572294           1        \n",
       "2 4572366           1        \n",
       "3 4572633           1        \n",
       "4 4572728           1        \n",
       "5 4572765           1        \n",
       "6 4572913           1        "
      ]
     },
     "metadata": {},
     "output_type": "display_data"
    }
   ],
   "source": [
    "head( tabla_final)"
   ]
  },
  {
   "cell_type": "code",
   "execution_count": 12,
   "metadata": {},
   "outputs": [],
   "source": [
    "#genero el archivo para Kaggle\n",
    "fwrite(tabla_final, \n",
    "        file= \"./kaggle/todos_unos.csv\",\n",
    "        sep=  \",\" )"
   ]
  },
  {
   "cell_type": "markdown",
   "metadata": {},
   "source": [
    "Subo el archivo a Kaggle y me fijo cuanta ganancia me da en el Public Leaderboard"
   ]
  },
  {
   "cell_type": "markdown",
   "metadata": {},
   "source": [
    "Da una ganancia de **-240.91851**"
   ]
  },
  {
   "cell_type": "markdown",
   "metadata": {},
   "source": [
    "### el hackeo"
   ]
  },
  {
   "cell_type": "markdown",
   "metadata": {},
   "source": [
    "Ahora pasamos a calcular la cantidad de BAJA+2  que hay en los datos de enero-2021,  hackeamos Kaggle"
   ]
  },
  {
   "cell_type": "markdown",
   "metadata": {},
   "source": [
    "Tengo dos incognitas, por un lado lo que llamo POS , los positivos, las \"BAJA+2\"\n",
    "<br>\n",
    "Por otro lado, lo que llamo NEG, los negativos,  los \"BAJA+1\" y \"CONTINUA\""
   ]
  },
  {
   "cell_type": "markdown",
   "metadata": {},
   "source": [
    "Se que se cumplen estas dos cosas:\n",
    "* POS + NEG = 240336\n",
    "* 48750\\*POS - 1250\\*NEG =  -240918510"
   ]
  },
  {
   "cell_type": "markdown",
   "metadata": {},
   "source": [
    "Es un sistema de dos ecuaciones con dos incógnitas, has multiples formas de resolverlo, la primera sería despejar POS.\n",
    "<br>\n",
    "pero utilizamos esta página  https://keisan.casio.com/exec/system/14013211335541"
   ]
  },
  {
   "cell_type": "markdown",
   "metadata": {},
   "source": [
    "Al correlo obtenemos que  POS = 1190 , o sea las BAJA+2  de 202101  son  1190"
   ]
  },
  {
   "cell_type": "markdown",
   "metadata": {},
   "source": [
    "¿Qué nos dicen estas 1190 BAJA+2 de enero del 2021? ¿Explican algo?\n",
    "<br>\n",
    "Las BAJA+2 que hay en noviembre del 2020 son  975 \n",
    "<br>\n",
    "Con lo cual es de esperar mayores ganancias de los modelos predictivos en 202101  que en 202001,  va a irnos mejor en el Public Leaderboard que en nuestros modelos."
   ]
  }
 ],
 "metadata": {
  "kernelspec": {
   "display_name": "R",
   "language": "R",
   "name": "ir"
  },
  "language_info": {
   "codemirror_mode": "r",
   "file_extension": ".r",
   "mimetype": "text/x-r-source",
   "name": "R",
   "pygments_lexer": "r",
   "version": "4.1.1"
  }
 },
 "nbformat": 4,
 "nbformat_minor": 4
}

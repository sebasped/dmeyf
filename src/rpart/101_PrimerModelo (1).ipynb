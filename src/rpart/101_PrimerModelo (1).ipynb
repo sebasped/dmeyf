{
 "cells": [
  {
   "cell_type": "markdown",
   "metadata": {},
   "source": [
    "Arbol elemental con libreria  rpart"
   ]
  },
  {
   "cell_type": "code",
   "execution_count": null,
   "metadata": {},
   "outputs": [],
   "source": [
    "require(\"data.table\")\n",
    "require(\"rpart\")"
   ]
  },
  {
   "cell_type": "code",
   "execution_count": null,
   "metadata": {},
   "outputs": [],
   "source": [
    "#Aqui se debe poner la carpeta de la computadora local\n",
    "setwd(\"M:\\\\\")  #Establezco el Working Directory"
   ]
  },
  {
   "cell_type": "markdown",
   "metadata": {},
   "source": [
    "cargo los datos de 202009 que es donde voy a ENTRENAR el modelo"
   ]
  },
  {
   "cell_type": "code",
   "execution_count": null,
   "metadata": {},
   "outputs": [],
   "source": [
    "dtrain  <- fread(\"./datasetsOri/paquete_premium_202009.csv\")"
   ]
  },
  {
   "cell_type": "raw",
   "metadata": {},
   "source": [
    "Genero el modelo, llamando a la funcion  rpart"
   ]
  },
  {
   "cell_type": "code",
   "execution_count": null,
   "metadata": {},
   "outputs": [],
   "source": [
    "modelo  <- rpart(\"clase_ternaria ~ .\",\n",
    "                 data = dtrain,\n",
    "                 xval=0,\n",
    "                 cp=        -0.3, \n",
    "                 minsplit=  100,\n",
    "                 minbucket=   1,\n",
    "                 maxdepth=   10 )"
   ]
  },
  {
   "cell_type": "markdown",
   "metadata": {},
   "source": [
    "Cargo los datos de 202111, para luego aplicarle el modelo"
   ]
  },
  {
   "cell_type": "code",
   "execution_count": null,
   "metadata": {},
   "outputs": [],
   "source": [
    "dapply  <- fread(\"./datasetsOri/paquete_premium_202011.csv\")"
   ]
  },
  {
   "cell_type": "raw",
   "metadata": {},
   "source": [
    "Aplico el modelo generado que esta en la variable \"modelo\"  a los datos \"dapply\""
   ]
  },
  {
   "cell_type": "code",
   "execution_count": null,
   "metadata": {},
   "outputs": [],
   "source": [
    "prediccion  <- predict( modelo, dapply , type = \"prob\") #aplico el modelo"
   ]
  },
  {
   "cell_type": "markdown",
   "metadata": {},
   "source": [
    "prediccion es una matriz con TRES columnas, llamadas \"BAJA+1\", \"BAJA+2\"  y \"CONTINUA\"\n",
    "cada columna es el vector de probabilidades "
   ]
  },
  {
   "cell_type": "code",
   "execution_count": null,
   "metadata": {},
   "outputs": [],
   "source": [
    "dapply[ , prob_baja2 := prediccion[, \"BAJA+2\"] ]\n",
    "dapply[ , Predicted  := as.numeric(prob_baja2 > 0.025) ]\n",
    "\n",
    "entrega  <- dapply[   , list(numero_de_cliente, Predicted) ] #genero la salida\n",
    "\n",
    "#genero el archivo para Kaggle\n",
    "fwrite( entrega, file=\"./kaggle/K101_002.csv\", sep=\",\" )"
   ]
  }
 ],
 "metadata": {
  "kernelspec": {
   "display_name": "R",
   "language": "R",
   "name": "ir"
  },
  "language_info": {
   "codemirror_mode": "r",
   "file_extension": ".r",
   "mimetype": "text/x-r-source",
   "name": "R",
   "pygments_lexer": "r",
   "version": "4.1.0"
  }
 },
 "nbformat": 4,
 "nbformat_minor": 4
}
